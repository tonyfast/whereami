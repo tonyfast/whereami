{
 "cells": [
  {
   "cell_type": "markdown",
   "metadata": {
    "slideshow": {
     "slide_type": "slide"
    }
   },
   "source": [
    "> # Learn new Jupyter tricks"
   ]
  },
  {
   "cell_type": "code",
   "execution_count": 13,
   "metadata": {},
   "outputs": [
    {
     "data": {
      "text/html": [
       "<iframe width=\"400\" height=\"250\" src=\"http://meetu.ps/3fFDxq\" frameborder=\"0\"></iframe>"
      ],
      "text/plain": [
       "<IPython.core.display.HTML object>"
      ]
     },
     "metadata": {},
     "output_type": "display_data"
    }
   ],
   "source": [
    "    %%html\n",
    "    <iframe width=\"400\" height=\"250\" src=\"http://meetu.ps/3fFDxq\" frameborder=\"0\"></iframe>"
   ]
  },
  {
   "cell_type": "markdown",
   "metadata": {},
   "source": [
    "## [Propose a talk](https://docs.google.com/forms/d/1NL0DJlfl5fnCMGT_fDnSi25aMF4yAAD77-Xp_2P1x24/edit) for future dates\n",
    "\n",
    "> ### December 16, 2017 | January 27, 2018  | Something in February | Jupyter day on March 31, 2018"
   ]
  },
  {
   "cell_type": "markdown",
   "metadata": {
    "slideshow": {
     "slide_type": "slide"
    }
   },
   "source": [
    "# whereami\n",
    "\n",
    "Logic circuits to identify the context a notebook's derived source is executing in.\n",
    "\n",
    "* Is Jupyter running this?\n",
    "* Is source in an Interactive session?\n",
    "* Is this a command line tool?\n",
    "\n"
   ]
  },
  {
   "cell_type": "markdown",
   "metadata": {},
   "source": [
    "> This project was created for a ⚡️ talk at [PyData Atlanta](https://www.meetup.com/PyData-Atlanta/).  This project exists because many folks **USE** Jupyter, but they don't _RE_**USE** their source.  The `whereaim` logic should make it easier to reuse your notebooks."
   ]
  },
  {
   "cell_type": "markdown",
   "metadata": {
    "slideshow": {
     "slide_type": "slide"
    }
   },
   "source": [
    "# The Acts of Programming\n",
    "\n",
    "[![](https://upload.wikimedia.org/wikipedia/commons/thumb/f/f7/Programming_paradigms.svg/884px-Programming_paradigms.svg.png)](https://en.wikipedia.org/wiki/File:Programming_paradigms.svg)"
   ]
  },
  {
   "cell_type": "markdown",
   "metadata": {
    "slideshow": {
     "slide_type": "slide"
    }
   },
   "source": [
    "# Restart and Run All"
   ]
  },
  {
   "cell_type": "code",
   "execution_count": 10,
   "metadata": {},
   "outputs": [
    {
     "data": {
      "text/html": [
       "\n",
       "        <iframe\n",
       "            width=\"800\"\n",
       "            height=\"600\"\n",
       "            src=\"http://nbviewer.jupyter.org/github/jupyterday-atlanta-2016/oriole_jupyterday_atl/blob/master/oriole_talk.ipynb#What-we-learned-about-teaching-with-notebooks\"\n",
       "            frameborder=\"0\"\n",
       "            allowfullscreen\n",
       "        ></iframe>\n",
       "        "
      ],
      "text/plain": [
       "<IPython.lib.display.IFrame at 0x10719a828>"
      ]
     },
     "execution_count": 10,
     "metadata": {},
     "output_type": "execute_result"
    }
   ],
   "source": [
    "    __import__('IPython').display.IFrame('http://nbviewer.jupyter.org/github/jupyterday-atlanta-2016/oriole_jupyterday_atl/blob/master/oriole_talk.ipynb#What-we-learned-about-teaching-with-notebooks', 800, 600)"
   ]
  },
  {
   "cell_type": "markdown",
   "metadata": {
    "slideshow": {
     "slide_type": "slide"
    }
   },
   "source": [
    "# `whereami` introspects reused notebooks\n",
    "\n",
    "Python modules, scripts, Jupyter applications, or Magic Functions"
   ]
  },
  {
   "cell_type": "code",
   "execution_count": 11,
   "metadata": {
    "collapsed": true
   },
   "outputs": [],
   "source": [
    "    huh = __import__('whereami').huh(globals())"
   ]
  },
  {
   "cell_type": "code",
   "execution_count": 12,
   "metadata": {},
   "outputs": [
    {
     "name": "stdout",
     "output_type": "stream",
     "text": [
      "\n",
      "---\n",
      "IPython file\n",
      "\u001b]0;IPython: tonyfast/whereami\u0007\n",
      "{MODULE: 🚫, SCRIPT: ✅, PYPY: 🚫, INTERACTIVE: ✅, FILE: ✅, PYTHON: ✅, MAIN: ✅, JUPYTER: 🚫, JYTHON: 🚫}\n",
      "\n",
      "\n",
      "---\n",
      "IPython Module\n",
      "\u001b]0;IPython: tonyfast/whereami\u0007\n",
      "{PYPY: 🚫, FILE: ✅, MODULE: 🚫, JYTHON: 🚫, JUPYTER: 🚫, INTERACTIVE: ✅, SCRIPT: ✅, PYTHON: ✅, MAIN: ✅}\n",
      "\n",
      "\n",
      "---\n",
      "Python file\n",
      "\n",
      "{JUPYTER: 🚫, PYTHON: ✅, SCRIPT: ✅, MODULE: 🚫, PYPY: 🚫, INTERACTIVE: 🚫, MAIN: ✅, JYTHON: 🚫, FILE: ✅}\n",
      "\n",
      "\n",
      "---\n",
      "Python module\n",
      "\n",
      "{INTERACTIVE: 🚫, SCRIPT: ✅, JUPYTER: 🚫, MAIN: ✅, JYTHON: 🚫, PYPY: 🚫, MODULE: 🚫, PYTHON: ✅, FILE: ✅}\n",
      "\n",
      "\n",
      "---\n",
      "Python import\n",
      "\n",
      "{FILE: ✅, INTERACTIVE: ✅, JUPYTER: 🚫, JYTHON: 🚫, MAIN: 🚫, MODULE: ✅, PYPY: 🚫, PYTHON: ✅, SCRIPT: 🚫}\n",
      "\n",
      "\n",
      "{FILE: 🚫, INTERACTIVE: ✅, JUPYTER: ✅, JYTHON: 🚫, MAIN: ✅, MODULE: 🚫, PYPY: 🚫, PYTHON: ✅, SCRIPT: 🚫}\n",
      "\n"
     ]
    }
   ],
   "source": [
    "    if huh.JUPYTER:\n",
    "        !echo \"\\n---\\nIPython file\"    &  ipython whereami.py\n",
    "        !echo \"\\n---\\nIPython Module\"  &  ipython -m whereami\n",
    "        !echo \"\\n---\\nPython file\"     &   python whereami.py\n",
    "        !echo \"\\n---\\nPython module\"   &   python -m whereami\n",
    "        # !echo \"Jython module\"   &   jython -m whereami\n",
    "        !echo \"\\n---\\nPython import\"  \n",
    "        print(__import__('whereami').state)\n",
    "        print(huh)\n",
    "        "
   ]
  },
  {
   "cell_type": "markdown",
   "metadata": {},
   "source": [
    "### Reproducing notebooks can be used interactively somewhere else."
   ]
  }
 ],
 "metadata": {
  "celltoolbar": "Slideshow",
  "kernelspec": {
   "display_name": "p6",
   "language": "python",
   "name": "other-env"
  },
  "language_info": {
   "codemirror_mode": {
    "name": "ipython",
    "version": 3
   },
   "file_extension": ".py",
   "mimetype": "text/x-python",
   "name": "python",
   "nbconvert_exporter": "python",
   "pygments_lexer": "ipython3",
   "version": "3.6.3"
  }
 },
 "nbformat": 4,
 "nbformat_minor": 2
}
