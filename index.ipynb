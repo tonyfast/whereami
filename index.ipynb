{
 "cells": [
  {
   "cell_type": "markdown",
   "metadata": {},
   "source": [
    "# whereami\n",
    "\n",
    "Logic circuits to identify the context a notebook's derived source is executing in.\n",
    "\n",
    "* Is Jupyter running this?\n",
    "* Is source in an Interactive session?\n",
    "* Is this a command line tool?\n",
    "\n"
   ]
  },
  {
   "cell_type": "markdown",
   "metadata": {},
   "source": [
    "> This project was created for a ⚡️ talk at [PyData Atlanta](https://www.meetup.com/PyData-Atlanta/).  This project exists because many folks **USE** Jupyter, but they don't _RE_**USE** their source.  The `whereaim` logic should make it easier to reuse your notebooks."
   ]
  },
  {
   "cell_type": "markdown",
   "metadata": {},
   "source": [
    "> # Learn new Jupyter tricks"
   ]
  },
  {
   "cell_type": "code",
   "execution_count": 3,
   "metadata": {},
   "outputs": [
    {
     "data": {
      "text/html": [
       "<iframe width=\"400\" height=\"300\" src=\"http://meetu.ps/3fFDxq\" frameborder=\"0\"></iframe>"
      ],
      "text/plain": [
       "<IPython.core.display.HTML object>"
      ]
     },
     "metadata": {},
     "output_type": "display_data"
    }
   ],
   "source": [
    "    %%html\n",
    "    <iframe width=\"400\" height=\"300\" src=\"http://meetu.ps/3fFDxq\" frameborder=\"0\"></iframe>"
   ]
  },
  {
   "cell_type": "raw",
   "metadata": {},
   "source": [
    "## Future Dates\n",
    "\n",
    "* January 27, 2018 \n",
    "* Something in February\n",
    "* March 31, 2018"
   ]
  },
  {
   "cell_type": "markdown",
   "metadata": {},
   "source": [
    "# The Acts of Programming\n",
    "\n",
    "[![](https://upload.wikimedia.org/wikipedia/commons/thumb/f/f7/Programming_paradigms.svg/884px-Programming_paradigms.svg.png)](https://en.wikipedia.org/wiki/File:Programming_paradigms.svg)"
   ]
  },
  {
   "cell_type": "markdown",
   "metadata": {},
   "source": [
    "# Restart and Run All"
   ]
  },
  {
   "cell_type": "markdown",
   "metadata": {},
   "source": [
    "# Reusing notebooks\n",
    "\n",
    "Python modules\n",
    "\n",
    "Python scripts\n",
    "\n",
    "Jupyter applications\n",
    "\n",
    "Magic Functions\n",
    "\n",
    "# Reproducing notebooks"
   ]
  },
  {
   "cell_type": "markdown",
   "metadata": {},
   "source": [
    "# IPython"
   ]
  },
  {
   "cell_type": "code",
   "execution_count": 10,
   "metadata": {},
   "outputs": [
    {
     "name": "stdout",
     "output_type": "stream",
     "text": [
      "\r\n",
      "---\r\n",
      "IPython file\r\n",
      "\u001b]0;IPython: tonyfast/whereami\u0007\r\n",
      "{FILE: ✅, MODULE: 🚫, SCRIPT: ✅, JUPYTER: 🚫, MAIN: ✅, INTERACTIVE: ✅}\r\n",
      "\r\n",
      "\r\n",
      "---\r\n",
      "IPython Module\r\n",
      "\u001b]0;IPython: tonyfast/whereami\u0007\r\n",
      "{INTERACTIVE: ✅, MAIN: ✅, JUPYTER: 🚫, MODULE: 🚫, SCRIPT: ✅, FILE: ✅}\r\n",
      "\r\n",
      "\r\n",
      "---\r\n",
      "Python file\r\n",
      "\r\n",
      "{FILE: ✅, MAIN: ✅, MODULE: 🚫, JUPYTER: 🚫, INTERACTIVE: 🚫, SCRIPT: ✅}\r\n",
      "\r\n",
      "\r\n",
      "---\r\n",
      "Python module\r\n",
      "\r\n",
      "{MODULE: 🚫, MAIN: ✅, FILE: ✅, INTERACTIVE: 🚫, SCRIPT: ✅, JUPYTER: 🚫}\r\n",
      "\r\n",
      "\r\n",
      "---\r\n",
      "Python import\r\n",
      "\n",
      "{FILE: ✅, INTERACTIVE: ✅, JUPYTER: 🚫, MAIN: 🚫, MODULE: ✅, SCRIPT: 🚫}\n",
      "\n",
      "\n",
      "{FILE: 🚫, INTERACTIVE: ✅, JUPYTER: ✅, MAIN: ✅, MODULE: 🚫, SCRIPT: 🚫}\n",
      "\n"
     ]
    }
   ],
   "source": [
    "    if huh.JUPYTER:\n",
    "        !echo \"\\n---\\nIPython file\"    &  ipython whereami.py\n",
    "        !echo \"\\n---\\nIPython Module\"  &  ipython -m whereami\n",
    "        !echo \"\\n---\\nPython file\"     &   python whereami.py\n",
    "        !echo \"\\n---\\nPython module\"   &   python -m whereami\n",
    "        # !echo \"Jython module\"   &   jython -m whereami\n",
    "        !echo \"\\n---\\nPython import\"  \n",
    "        print(__import__('whereami').state)\n",
    "        print(huh)\n",
    "        "
   ]
  },
  {
   "cell_type": "code",
   "execution_count": 11,
   "metadata": {},
   "outputs": [
    {
     "name": "stdout",
     "output_type": "stream",
     "text": [
      "\r\n",
      "---\r\n",
      "Python import\r\n",
      "\n",
      "{FILE: ✅, INTERACTIVE: ✅, JUPYTER: 🚫, MAIN: 🚫, MODULE: ✅, SCRIPT: 🚫}\n",
      "\n",
      "\n",
      "{FILE: 🚫, INTERACTIVE: ✅, JUPYTER: ✅, MAIN: ✅, MODULE: 🚫, SCRIPT: 🚫}\n",
      "\n"
     ]
    }
   ],
   "source": [
    "    if huh.JUPYTER:\n",
    "        !echo \"\\n---\\nPython import\"  \n",
    "        print(__import__('whereami').state)\n",
    "        print(huh)\n",
    "        "
   ]
  },
  {
   "cell_type": "markdown",
   "metadata": {},
   "source": [
    "## Advanced."
   ]
  },
  {
   "cell_type": "code",
   "execution_count": 12,
   "metadata": {},
   "outputs": [
    {
     "data": {
      "text/plain": [
       "\n",
       "{FILE: ✅, INTERACTIVE: ✅, JUPYTER: 🚫, MAIN: 🚫, MODULE: ✅, SCRIPT: 🚫}"
      ]
     },
     "execution_count": 12,
     "metadata": {},
     "output_type": "execute_result"
    }
   ],
   "source": [
    "    import whereami\n",
    "    whereami.state"
   ]
  },
  {
   "cell_type": "markdown",
   "metadata": {},
   "source": [
    "# Developer\n",
    "\n",
    "`whereami` contains the reqq"
   ]
  },
  {
   "cell_type": "code",
   "execution_count": 13,
   "metadata": {},
   "outputs": [
    {
     "name": "stdout",
     "output_type": "stream",
     "text": [
      "[NbConvertApp] Converting notebook whereami.ipynb to markdown\r\n",
      "[NbConvertApp] Executing notebook with kernel: other-env\r\n",
      "[NbConvertApp] Writing 3878 bytes to whereami.md\r\n",
      "**********************************************************************\r\n",
      "File \"/Users/tonyfast/whereami/whereami.py\", line ?, in whereami.huh.MAIN\r\n",
      "Failed example:\r\n",
      "    assert state.MAIN and dunder%'name' in state.globals\r\n",
      "Exception raised:\r\n",
      "    Traceback (most recent call last):\r\n",
      "      File \"/Users/tonyfast/anaconda/lib/python3.5/doctest.py\", line 1321, in __run\r\n",
      "        compileflags, 1), test.globs)\r\n",
      "      File \"<doctest whereami.huh.MAIN[0]>\", line 1, in <module>\r\n",
      "        assert state.MAIN and dunder%'name' in state.globals\r\n",
      "    AssertionError\r\n",
      "**********************************************************************\r\n",
      "File \"/Users/tonyfast/whereami/whereami.py\", line ?, in whereami.huh.SCRIPT\r\n",
      "Failed example:\r\n",
      "    assert state.SCRIPT ^ state.INTERACTIVE\r\n",
      "Exception raised:\r\n",
      "    Traceback (most recent call last):\r\n",
      "      File \"/Users/tonyfast/anaconda/lib/python3.5/doctest.py\", line 1321, in __run\r\n",
      "        compileflags, 1), test.globs)\r\n",
      "      File \"<doctest whereami.huh.SCRIPT[0]>\", line 1, in <module>\r\n",
      "        assert state.SCRIPT ^ state.INTERACTIVE\r\n",
      "    AssertionError\r\n",
      "**********************************************************************\r\n",
      "2 items had failures:\r\n",
      "   1 of   1 in whereami.huh.MAIN\r\n",
      "   1 of   1 in whereami.huh.SCRIPT\r\n",
      "***Test Failed*** 2 failures.\r\n",
      "wrote whereami.html\r\n",
      "CPU times: user 84.5 ms, sys: 137 ms, total: 222 ms\n",
      "Wall time: 7.58 s\n"
     ]
    }
   ],
   "source": [
    "    %%time\n",
    "    if huh.JUPYTER:\n",
    "        !jupyter nbconvert --to markdown --execute whereami.ipynb\n",
    "        !python -m doctest whereami.py\n",
    "        !python -m pydoc -w whereami"
   ]
  },
  {
   "cell_type": "markdown",
   "metadata": {},
   "source": [
    "> This project was created for a ⚡️ talk at [PyData Atlanta](https://www.meetup.com/PyData-Atlanta/).  This project exists because many folks **USE** Jupyter, but they don't _RE_**USE** their source.  The `whereaim` logic should make it easier to reuse your notebooks."
   ]
  },
  {
   "cell_type": "code",
   "execution_count": null,
   "metadata": {
    "collapsed": true
   },
   "outputs": [],
   "source": []
  },
  {
   "cell_type": "code",
   "execution_count": null,
   "metadata": {
    "collapsed": true
   },
   "outputs": [],
   "source": []
  }
 ],
 "metadata": {
  "celltoolbar": "Slideshow",
  "kernelspec": {
   "display_name": "p6",
   "language": "python",
   "name": "other-env"
  },
  "language_info": {
   "codemirror_mode": {
    "name": "ipython",
    "version": 3
   },
   "file_extension": ".py",
   "mimetype": "text/x-python",
   "name": "python",
   "nbconvert_exporter": "python",
   "pygments_lexer": "ipython3",
   "version": "3.6.3"
  }
 },
 "nbformat": 4,
 "nbformat_minor": 2
}
