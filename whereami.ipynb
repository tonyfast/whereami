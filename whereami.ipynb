{
 "cells": [
  {
   "cell_type": "markdown",
   "metadata": {
    "slideshow": {
     "slide_type": "slide"
    }
   },
   "source": [
    "# `whereami`\n",
    "\n",
    "Logic circuits to identify the context a notebook's derived source is executing in.\n",
    "\n",
    "* Is Jupyter running this?\n",
    "* Is source in an Interactive session?\n",
    "* Is this a command line tool?\n",
    "---\n",
    "\n",
    "> [Presentation](index.ipynb) | [`readme`](readme.ipynb)"
   ]
  },
  {
   "cell_type": "markdown",
   "metadata": {
    "slideshow": {
     "slide_type": "subslide"
    }
   },
   "source": [
    ">A primary use of the `whereami` differentiates between interactive Jupyter sessions and imperative, procedural Python operations."
   ]
  },
  {
   "cell_type": "code",
   "execution_count": 1,
   "metadata": {
    "collapsed": true,
    "slideshow": {
     "slide_type": "-"
    }
   },
   "outputs": [],
   "source": [
    "    __doc__ = \"\"\"whereami tests\n",
    "    \n",
    "    Basic usage.\n",
    "    \n",
    "    >>> state = __import__('whereami').huh(globals())\n",
    "    \n",
    "    \n",
    "    >>> if state.JUPYTER:\n",
    "    ...     assert not state.FILE and state.MAIN and state.INTERACTIVE\n",
    "    ... else:\n",
    "    ...     assert state.FILE\n",
    "    \n",
    "    >>> assert __import__('whereami').state.MODULE\n",
    "    \"\"\"\n",
    "    \n",
    "    __all__ = 'huh', 'dunder'\n",
    "    \n",
    "    # dunder` is short hand for **d**ouble**under**core.\n",
    "    dunder = \"__%s__\""
   ]
  },
  {
   "cell_type": "markdown",
   "metadata": {
    "slideshow": {
     "slide_type": "slide"
    }
   },
   "source": [
    "# Where are we `huh`?  "
   ]
  },
  {
   "cell_type": "code",
   "execution_count": 2,
   "metadata": {
    "collapsed": true
   },
   "outputs": [],
   "source": [
    "    class huh(object):\n",
    "        def __init__(x, object:dict=None):\n",
    "            \"\"\"When creating the object, decide if the state is INTERACTIVE or not?\n",
    "            >>> assert isinstance(huh().globals, dict)\n",
    "            \"\"\"\n",
    "            try:\n",
    "                import IPython\n",
    "                ip = IPython.get_ipython()\n",
    "                x.INTERACTIVE = isinstance(IPython.get_ipython(), \n",
    "                                             IPython.core.interactiveshell.InteractiveShell)\n",
    "                if not object: object = ip.user_ns\n",
    "            except:\n",
    "                x.INTERACTIVE = False\n",
    "                if not object: object = globals()\n",
    "            x.globals = object\n",
    "        \n",
    "        @classmethod\n",
    "        def state(cls, callable, decorate=True):\n",
    "            \"\"\"Append attributes to huh.  Non-upper case attributes are created as properties.\"\"\"\n",
    "            setattr(cls, callable.__name__, property(callable) if callable.__name__[0].isupper() else callable)"
   ]
  },
  {
   "cell_type": "markdown",
   "metadata": {
    "slideshow": {
     "slide_type": "subslide"
    }
   },
   "source": [
    "## What does `huh` look like, huh?"
   ]
  },
  {
   "cell_type": "code",
   "execution_count": 3,
   "metadata": {
    "collapsed": true
   },
   "outputs": [],
   "source": [
    "    @huh.state\n",
    "    def __iter__(self):\n",
    "        yield from ((key, bool(getattr(self, key))) for key in dir(self) if key[0].isupper())\n",
    "\n",
    "    @huh.state    \n",
    "    def __repr__(self):\n",
    "        return \"\\n%s\\n\"%repr(dict(\n",
    "            (k, \"🚫✅\"[v]) for k, v in self)).replace(\"'\", \"\")"
   ]
  },
  {
   "cell_type": "markdown",
   "metadata": {
    "slideshow": {
     "slide_type": "slide"
    }
   },
   "source": [
    "# Are we in a live 🥁 kernel?\n",
    "\n",
    "[`get_ipython` exists in every live notebook.](get_ipython.ipynb)"
   ]
  },
  {
   "cell_type": "code",
   "execution_count": 4,
   "metadata": {},
   "outputs": [
    {
     "data": {
      "text/plain": [
       "<ipykernel.zmqshell.ZMQInteractiveShell at 0x10b4c6cc0>"
      ]
     },
     "execution_count": 4,
     "metadata": {},
     "output_type": "execute_result"
    }
   ],
   "source": [
    "    @huh.state\n",
    "    def __init__(x:huh, object:dict=None):\n",
    "        \"\"\"When creating the object, decide if the state is INTERACTIVE or not?\n",
    "        >>> assert isinstance(huh().globals, dict)\n",
    "        \"\"\"\n",
    "        try:\n",
    "            import IPython\n",
    "            ip = IPython.get_ipython()\n",
    "            x.INTERACTIVE = isinstance(IPython.get_ipython(), \n",
    "                                         IPython.core.interactiveshell.InteractiveShell)\n",
    "            if not object: object = ip.user_ns\n",
    "        except:\n",
    "            x.INTERACTIVE = False\n",
    "            if not object: object = globals()\n",
    "        x.globals = object\n",
    "        \n",
    "    huh(globals()).INTERACTIVE and __import__('IPython').get_ipython()"
   ]
  },
  {
   "cell_type": "markdown",
   "metadata": {
    "slideshow": {
     "slide_type": "slide"
    }
   },
   "source": [
    "## Are we running code from a `__file__`?\n",
    "\n",
    "An interactive notebook does not have the `__file__` object."
   ]
  },
  {
   "cell_type": "code",
   "execution_count": 5,
   "metadata": {
    "collapsed": true
   },
   "outputs": [],
   "source": [
    "    @huh.state\n",
    "    def FILE(x:huh): \n",
    "        \"\"\"Does file exists in the namespace?\n",
    "        \n",
    "        %run is a special case where a jupyter application has a file.\n",
    "        \"\"\"\n",
    "        return dunder%'file' in x.globals"
   ]
  },
  {
   "cell_type": "markdown",
   "metadata": {
    "slideshow": {
     "slide_type": "slide"
    }
   },
   "source": [
    "## Are we running code in the `__main__` context?\n",
    "\n",
    "Jupyter applications and some Python applications run in the main context."
   ]
  },
  {
   "cell_type": "code",
   "execution_count": 6,
   "metadata": {},
   "outputs": [
    {
     "data": {
      "text/plain": [
       "'__main__'"
      ]
     },
     "execution_count": 6,
     "metadata": {},
     "output_type": "execute_result"
    }
   ],
   "source": [
    "    @huh.state\n",
    "    def MAIN(x:huh): \n",
    "        \"\"\"\n",
    "        >>> assert not state.MAIN or state.MAIN and dunder%'name' in state.globals\n",
    "        \"\"\"\n",
    "        return x.globals.get(dunder%'name') == dunder%'main'\n",
    "    __name__"
   ]
  },
  {
   "cell_type": "markdown",
   "metadata": {
    "slideshow": {
     "slide_type": "slide"
    }
   },
   "source": [
    "### _most_ Jupyter applications _do not_ rely on a `__file__` and run as `__main__`.\n",
    "\n",
    "> The rarely used `%run` magic is an edge case."
   ]
  },
  {
   "cell_type": "code",
   "execution_count": 17,
   "metadata": {
    "collapsed": true
   },
   "outputs": [],
   "source": [
    "    @huh.state\n",
    "    def JUPYTER(x): \n",
    "        \"\"\"Is jupyter running the application?\"\"\"\n",
    "        return x.MAIN and not x.FILE"
   ]
  },
  {
   "cell_type": "markdown",
   "metadata": {
    "slideshow": {
     "slide_type": "slide"
    }
   },
   "source": [
    "## Are we running code as a [scripting language]()?"
   ]
  },
  {
   "cell_type": "code",
   "execution_count": 8,
   "metadata": {
    "collapsed": true
   },
   "outputs": [],
   "source": [
    "    @huh.state\n",
    "    def SCRIPT(x): \n",
    "        \"\"\"Is the command procedural?\"\"\"\n",
    "        return x.FILE and x.MAIN"
   ]
  },
  {
   "cell_type": "markdown",
   "metadata": {},
   "source": [
    "### ...or a module."
   ]
  },
  {
   "cell_type": "code",
   "execution_count": 9,
   "metadata": {
    "collapsed": true
   },
   "outputs": [],
   "source": [
    "    @huh.state\n",
    "    def MODULE(x): \n",
    "        \"\"\"Is the script imported by Python?\n",
    "        \n",
    "        >>> if state.SCRIPT:\n",
    "        ...     assert not state.MODULE\n",
    "        \"\"\"\n",
    "        return x.FILE and not x.MAIN"
   ]
  },
  {
   "cell_type": "markdown",
   "metadata": {
    "slideshow": {
     "slide_type": "slide"
    }
   },
   "source": [
    "# Other interesting conditions\n",
    "\n",
    "## We know that we are running 🐍."
   ]
  },
  {
   "cell_type": "code",
   "execution_count": 10,
   "metadata": {
    "collapsed": true
   },
   "outputs": [],
   "source": [
    "    @huh.state\n",
    "    def PYTHON(x:huh): return __import__(\"sys\").version_info.major"
   ]
  },
  {
   "cell_type": "markdown",
   "metadata": {
    "slideshow": {
     "slide_type": "fragment"
    }
   },
   "source": [
    "### What about J🐍?"
   ]
  },
  {
   "cell_type": "code",
   "execution_count": 11,
   "metadata": {
    "collapsed": true,
    "slideshow": {
     "slide_type": "-"
    }
   },
   "outputs": [],
   "source": [
    "    @huh.state\n",
    "    def JYTHON(x:huh): return \"java\" in __import__(\"platform\").system().lower()"
   ]
  },
  {
   "cell_type": "markdown",
   "metadata": {
    "slideshow": {
     "slide_type": "-"
    }
   },
   "source": [
    "### ...or 🍰🍰?"
   ]
  },
  {
   "cell_type": "code",
   "execution_count": 12,
   "metadata": {
    "collapsed": true,
    "slideshow": {
     "slide_type": "-"
    }
   },
   "outputs": [],
   "source": [
    "    @huh.state\n",
    "    def PYPY(x:huh): return \"pypy\" in __import__(\"platform\").python_implementation().lower()"
   ]
  },
  {
   "cell_type": "markdown",
   "metadata": {
    "slideshow": {
     "slide_type": "slide"
    }
   },
   "source": [
    "# Internal Usage\n",
    "\n",
    "`whereami.state` records it's state anytime it is executed including imports."
   ]
  },
  {
   "cell_type": "code",
   "execution_count": 13,
   "metadata": {
    "collapsed": true
   },
   "outputs": [],
   "source": [
    "    state = huh(globals())\n",
    "    state.__doc__ = \"\"\"The state of the imported `whereami` module.\"\"\""
   ]
  },
  {
   "cell_type": "markdown",
   "metadata": {
    "slideshow": {
     "slide_type": "slide"
    }
   },
   "source": [
    "## Development and Testing"
   ]
  },
  {
   "cell_type": "code",
   "execution_count": 14,
   "metadata": {},
   "outputs": [
    {
     "name": "stdout",
     "output_type": "stream",
     "text": [
      "TestResults(failed=0, attempted=6)\n",
      "[NbConvertApp] Converting notebook whereami.ipynb to script\n",
      "[NbConvertApp] Writing 5208 bytes to whereami.py\n",
      "\n",
      "{JUPYTER: 🚫, MODULE: 🚫, INTERACTIVE: 🚫, JYTHON: 🚫, PYPY: 🚫, FILE: ✅, MAIN: ✅, SCRIPT: ✅, PYTHON: ✅}\n",
      "\n"
     ]
    }
   ],
   "source": [
    "    if state.MAIN and not state.FILE:\n",
    "        print(__import__('doctest').testmod())\n",
    "        !jupyter nbconvert --to script whereami.ipynb\n",
    "        !python whereami.py"
   ]
  },
  {
   "cell_type": "markdown",
   "metadata": {
    "slideshow": {
     "slide_type": "subslide"
    }
   },
   "source": [
    "## Run `whereami` as a script."
   ]
  },
  {
   "cell_type": "code",
   "execution_count": 15,
   "metadata": {},
   "outputs": [
    {
     "name": "stdout",
     "output_type": "stream",
     "text": [
      "\n",
      "{FILE: 🚫, INTERACTIVE: ✅, JUPYTER: ✅, JYTHON: 🚫, MAIN: ✅, MODULE: 🚫, PYPY: 🚫, PYTHON: ✅, SCRIPT: 🚫}\n",
      "\n"
     ]
    }
   ],
   "source": [
    "    if state.MAIN:\n",
    "        print(state)"
   ]
  },
  {
   "cell_type": "markdown",
   "metadata": {},
   "source": [
    "### Equivalent to.\n",
    "\n",
    "    if __name__ == '__main__':\n",
    "        print(state)"
   ]
  },
  {
   "cell_type": "markdown",
   "metadata": {
    "slideshow": {
     "slide_type": "subslide"
    }
   },
   "source": [
    "## [Make it an IPython extension.](http://ipython.readthedocs.io/en/stable/config/extensions/#writing-extensions)"
   ]
  },
  {
   "cell_type": "code",
   "execution_count": 16,
   "metadata": {
    "collapsed": true
   },
   "outputs": [],
   "source": [
    "    def load_ipython_extension(ip):\n",
    "        print(huh())"
   ]
  },
  {
   "cell_type": "markdown",
   "metadata": {
    "slideshow": {
     "slide_type": "slide"
    }
   },
   "source": [
    "# [`readme.ipynb`](readme.ipynb)"
   ]
  }
 ],
 "metadata": {
  "celltoolbar": "Slideshow",
  "kernelspec": {
   "display_name": "p6",
   "language": "python",
   "name": "other-env"
  },
  "language_info": {
   "codemirror_mode": {
    "name": "ipython",
    "version": 3
   },
   "file_extension": ".py",
   "mimetype": "text/x-python",
   "name": "python",
   "nbconvert_exporter": "python",
   "pygments_lexer": "ipython3",
   "version": "3.6.3"
  }
 },
 "nbformat": 4,
 "nbformat_minor": 2
}
