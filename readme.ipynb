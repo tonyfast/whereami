{
 "cells": [
  {
   "cell_type": "markdown",
   "metadata": {
    "slideshow": {
     "slide_type": "slide"
    }
   },
   "source": [
    "# whereami\n",
    "\n",
    "Logic circuits to identify the context a notebook's derived source is executing in.\n",
    "\n",
    "* Is Jupyter running this?\n",
    "* Is source in an Interactive session?\n",
    "* Is this a command line tool?\n",
    "\n",
    "\n",
    "---\n",
    "\n",
    "        ipython setup.py develop"
   ]
  },
  {
   "cell_type": "markdown",
   "metadata": {},
   "source": [
    "## Basic usage"
   ]
  },
  {
   "cell_type": "code",
   "execution_count": 45,
   "metadata": {},
   "outputs": [
    {
     "data": {
      "text/plain": [
       "\n",
       "{FILE: 🚫, INTERACTIVE: ✅, JUPYTER: ✅, JYTHON: 🚫, MAIN: ✅, MODULE: 🚫, PYPY: 🚫, PYTHON: ✅, SCRIPT: 🚫}"
      ]
     },
     "execution_count": 45,
     "metadata": {},
     "output_type": "execute_result"
    }
   ],
   "source": [
    "    huh = __import__('whereami').huh(globals())\n",
    "    huh"
   ]
  },
  {
   "cell_type": "markdown",
   "metadata": {
    "slideshow": {
     "slide_type": "slide"
    }
   },
   "source": [
    "## Advanced\n",
    "\n",
    "`whereami` contains an object `state` that contains"
   ]
  },
  {
   "cell_type": "code",
   "execution_count": 46,
   "metadata": {},
   "outputs": [
    {
     "data": {
      "text/plain": [
       "\n",
       "{FILE: ✅, INTERACTIVE: ✅, JUPYTER: 🚫, JYTHON: 🚫, MAIN: 🚫, MODULE: ✅, PYPY: 🚫, PYTHON: ✅, SCRIPT: 🚫}"
      ]
     },
     "execution_count": 46,
     "metadata": {},
     "output_type": "execute_result"
    }
   ],
   "source": [
    "    import whereami\n",
    "    whereami.state"
   ]
  },
  {
   "cell_type": "markdown",
   "metadata": {
    "slideshow": {
     "slide_type": "slide"
    }
   },
   "source": [
    "## IPython magic"
   ]
  },
  {
   "cell_type": "code",
   "execution_count": 52,
   "metadata": {},
   "outputs": [
    {
     "name": "stdout",
     "output_type": "stream",
     "text": [
      "\n",
      "{FILE: 🚫, INTERACTIVE: ✅, JUPYTER: ✅, JYTHON: 🚫, MAIN: ✅, MODULE: 🚫, PYPY: 🚫, PYTHON: ✅, SCRIPT: 🚫}\n",
      "\n",
      "\n",
      "{FILE: ✅, INTERACTIVE: ✅, JUPYTER: 🚫, JYTHON: 🚫, MAIN: ✅, MODULE: 🚫, PYPY: 🚫, PYTHON: ✅, SCRIPT: ✅}\n",
      "\n",
      "\n",
      "{FILE: ✅, INTERACTIVE: ✅, JUPYTER: 🚫, JYTHON: 🚫, MAIN: ✅, MODULE: 🚫, PYPY: 🚫, PYTHON: ✅, SCRIPT: ✅}\n",
      "\n"
     ]
    }
   ],
   "source": [
    "    %reload_ext whereami\n",
    "    %run whereami.ipynb\n",
    "    %run whereami.py"
   ]
  },
  {
   "cell_type": "markdown",
   "metadata": {
    "slideshow": {
     "slide_type": "slide"
    }
   },
   "source": [
    "# Developer\n",
    "\n",
    "`whereami` contains it's own build steps.  Run that notebook in `--execute` mode by checking for `huh.JUPYTER`."
   ]
  },
  {
   "cell_type": "code",
   "execution_count": 51,
   "metadata": {},
   "outputs": [
    {
     "name": "stdout",
     "output_type": "stream",
     "text": [
      "Overwriting setup.py\n"
     ]
    }
   ],
   "source": [
    "    %%file setup.py\n",
    "    __import__('setuptools').setup(name=\"whereami\", py_modules=['whereami'])        "
   ]
  },
  {
   "cell_type": "code",
   "execution_count": null,
   "metadata": {
    "collapsed": true
   },
   "outputs": [],
   "source": [
    "    huh = __import__('whereami').huh(globals())\n",
    "    if huh.JUPYTER:\n",
    "        !jupyter nbconvert --to markdown --execute whereami.ipynb\n",
    "        !python -m doctest whereami.py\n",
    "        !python -m pydoc -w whereami\n",
    "        !jupyter nbconvert --to python readme.ipynb\n",
    "        !jupyter nbconvert --to markdown readme.ipynb\n",
    "        !jupyter nbconvert index.ipynb"
   ]
  },
  {
   "cell_type": "markdown",
   "metadata": {
    "slideshow": {
     "slide_type": "subslide"
    }
   },
   "source": [
    "`whereami` as a package."
   ]
  },
  {
   "cell_type": "code",
   "execution_count": 44,
   "metadata": {},
   "outputs": [
    {
     "name": "stdout",
     "output_type": "stream",
     "text": [
      "[NbConvertApp] Converting notebook whereami.ipynb to markdown\n",
      "[NbConvertApp] Executing notebook with kernel: other-env\n",
      "[NbConvertApp] Writing 5796 bytes to whereami.md\n",
      "wrote whereami.html\n",
      "[NbConvertApp] Converting notebook readme.ipynb to python\n",
      "[NbConvertApp] Writing 1488 bytes to readme.py\n",
      "[NbConvertApp] Converting notebook readme.ipynb to markdown\n",
      "[NbConvertApp] Writing 2128 bytes to readme.md\n",
      "[NbConvertApp] Converting notebook index.ipynb to html\n",
      "[NbConvertApp] Writing 257908 bytes to index.html\n"
     ]
    }
   ],
   "source": [
    "    if huh.MAIN and not huh.JUPYTER:\n",
    "        !ipython setup.py develop"
   ]
  }
 ],
 "metadata": {
  "celltoolbar": "Slideshow",
  "kernelspec": {
   "display_name": "p6",
   "language": "python",
   "name": "other-env"
  },
  "language_info": {
   "codemirror_mode": {
    "name": "ipython",
    "version": 3
   },
   "file_extension": ".py",
   "mimetype": "text/x-python",
   "name": "python",
   "nbconvert_exporter": "python",
   "pygments_lexer": "ipython3",
   "version": "3.6.3"
  }
 },
 "nbformat": 4,
 "nbformat_minor": 2
}
