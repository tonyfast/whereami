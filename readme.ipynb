{
 "cells": [
  {
   "cell_type": "markdown",
   "metadata": {},
   "source": [
    "# whereami\n",
    "\n",
    "Logic circuits to identify the context a notebook's derived source is executing in.\n",
    "\n",
    "* Is Jupyter running this?\n",
    "* Is source in an Interactive session?\n",
    "* Is this a command line tool?"
   ]
  },
  {
   "cell_type": "markdown",
   "metadata": {},
   "source": [
    "## Basic usage"
   ]
  },
  {
   "cell_type": "code",
   "execution_count": 22,
   "metadata": {},
   "outputs": [
    {
     "data": {
      "text/plain": [
       "\n",
       "{FILE: 🚫, INTERACTIVE: ✅, JUPYTER: ✅, MAIN: ✅, MODULE: 🚫, SCRIPT: 🚫}"
      ]
     },
     "execution_count": 22,
     "metadata": {},
     "output_type": "execute_result"
    }
   ],
   "source": [
    "    huh = __import__('whereami').huh(globals())\n",
    "    huh"
   ]
  },
  {
   "cell_type": "markdown",
   "metadata": {},
   "source": [
    "### IPython magic"
   ]
  },
  {
   "cell_type": "code",
   "execution_count": 1,
   "metadata": {},
   "outputs": [
    {
     "name": "stdout",
     "output_type": "stream",
     "text": [
      "\n",
      "{FILE: 🚫, INTERACTIVE: ✅, JUPYTER: ✅, JYTHON: 🚫, MAIN: ✅, MODULE: 🚫, PYPY: 🚫, PYTHON: ✅, SCRIPT: 🚫}\n",
      "\n"
     ]
    }
   ],
   "source": [
    "    %reload_ext whereami"
   ]
  },
  {
   "cell_type": "markdown",
   "metadata": {},
   "source": [
    "## Advanced\n",
    "\n",
    "`whereami` contains an object `state` that contains"
   ]
  },
  {
   "cell_type": "code",
   "execution_count": 23,
   "metadata": {},
   "outputs": [
    {
     "data": {
      "text/plain": [
       "\n",
       "{FILE: ✅, INTERACTIVE: ✅, JUPYTER: 🚫, MAIN: 🚫, MODULE: ✅, SCRIPT: 🚫}"
      ]
     },
     "execution_count": 23,
     "metadata": {},
     "output_type": "execute_result"
    }
   ],
   "source": [
    "    import whereami\n",
    "    whereami.state"
   ]
  },
  {
   "cell_type": "markdown",
   "metadata": {},
   "source": [
    "# Developer\n",
    "\n",
    "`whereami` contains it's own build steps.  Run that notebook in `--execute` mode by checking for `huh.JUPYTER`."
   ]
  },
  {
   "cell_type": "code",
   "execution_count": 21,
   "metadata": {},
   "outputs": [
    {
     "name": "stdout",
     "output_type": "stream",
     "text": [
      "[NbConvertApp] Converting notebook whereami.ipynb to markdown\r\n",
      "[NbConvertApp] Executing notebook with kernel: other-env\r\n",
      "[NbConvertApp] Writing 4105 bytes to whereami.md\r\n",
      "wrote whereami.html\r\n",
      "CPU times: user 87.5 ms, sys: 128 ms, total: 216 ms\n",
      "Wall time: 7.52 s\n"
     ]
    }
   ],
   "source": [
    "    %%time\n",
    "    if huh.JUPYTER:\n",
    "        !jupyter nbconvert --to markdown --execute whereami.ipynb\n",
    "        !python -m doctest whereami.py\n",
    "        !python -m pydoc -w whereami"
   ]
  }
 ],
 "metadata": {
  "celltoolbar": "Slideshow",
  "kernelspec": {
   "display_name": "p6",
   "language": "python",
   "name": "other-env"
  },
  "language_info": {
   "codemirror_mode": {
    "name": "ipython",
    "version": 3
   },
   "file_extension": ".py",
   "mimetype": "text/x-python",
   "name": "python",
   "nbconvert_exporter": "python",
   "pygments_lexer": "ipython3",
   "version": "3.6.3"
  }
 },
 "nbformat": 4,
 "nbformat_minor": 2
}
